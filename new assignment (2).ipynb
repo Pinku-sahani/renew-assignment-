{
 "cells": [
  {
   "cell_type": "markdown",
   "id": "abf04bde-475f-4c65-81f0-f70c89e1f4aa",
   "metadata": {},
   "source": [
    "Q1. Which keyword is used to create a function? Create a function to return a list of odd numbers in the\n",
    "range of 1 to 25."
   ]
  },
  {
   "cell_type": "code",
   "execution_count": 2,
   "id": "898bb9fe-0746-438d-b804-897fd453b2d0",
   "metadata": {},
   "outputs": [],
   "source": [
    "# (def) keyword to create a function?"
   ]
  },
  {
   "cell_type": "code",
   "execution_count": 4,
   "id": "253fe867-413b-4c54-ad90-8142d4f50857",
   "metadata": {},
   "outputs": [],
   "source": [
    "l = [1,2,3,4,5,6,7,8,9,10,11,12,13,14,15,16,17,18,19,20,21,22,23,24,25]\n",
    "\n",
    "def my_fun(l):\n",
    "    \n",
    "    for i in l:\n",
    "        if i % 2 != 0:\n",
    "            print(i)\n",
    "    \n",
    "            "
   ]
  },
  {
   "cell_type": "code",
   "execution_count": 5,
   "id": "66d0fea6-d555-4a4e-8ea9-3fb0f98ee604",
   "metadata": {},
   "outputs": [
    {
     "name": "stdout",
     "output_type": "stream",
     "text": [
      "1\n",
      "3\n",
      "5\n",
      "7\n",
      "9\n",
      "11\n",
      "13\n",
      "15\n",
      "17\n",
      "19\n",
      "21\n",
      "23\n",
      "25\n"
     ]
    }
   ],
   "source": [
    "my_fun(l)"
   ]
  },
  {
   "cell_type": "markdown",
   "id": "6e54250f-af93-4b8f-9497-6409eb3a9d98",
   "metadata": {},
   "source": [
    "Q2. Why *args and **kwargs is used in some functions? Create a function each for *args and **kwargs\n",
    "to demonstrate their use."
   ]
  },
  {
   "cell_type": "code",
   "execution_count": 6,
   "id": "976c7e54-627d-4f0d-a2c2-4c2d9d1687e3",
   "metadata": {},
   "outputs": [],
   "source": [
    "# use for *args - n data input from the use of *args\n",
    "# use for **kwargs - n data input but dict form this is call to **kwargs"
   ]
  },
  {
   "cell_type": "code",
   "execution_count": 7,
   "id": "f274ad29-0267-45f6-a06a-4d5798c1c22b",
   "metadata": {},
   "outputs": [],
   "source": [
    "# program in *args\n",
    "# suppose i have to input n data : Data is 'computer','laptop','palmtop','mobilephone','printer','plotter','motherboard','CPU(central processing unit)'\n",
    "\n",
    "def my_fun2(*args):\n",
    "    return args\n"
   ]
  },
  {
   "cell_type": "code",
   "execution_count": 8,
   "id": "0fea541b-43b5-4764-bb1d-152d4f457dda",
   "metadata": {},
   "outputs": [
    {
     "data": {
      "text/plain": [
       "('computer',\n",
       " 'laptop',\n",
       " 'palmtop',\n",
       " 'mobilephone',\n",
       " 'printer',\n",
       " 'plotter',\n",
       " 'motherboard',\n",
       " 'CPU (central processing unit)')"
      ]
     },
     "execution_count": 8,
     "metadata": {},
     "output_type": "execute_result"
    }
   ],
   "source": [
    "my_fun2('computer','laptop','palmtop','mobilephone','printer','plotter','motherboard','CPU (central processing unit)')\n",
    "# i have n of got the data"
   ]
  },
  {
   "cell_type": "code",
   "execution_count": 9,
   "id": "47b011b0-7057-4204-b4b8-bab42c8dd174",
   "metadata": {},
   "outputs": [],
   "source": [
    "# program in **kwargs\n",
    "# Like I have this data and I want to tell that this product is placed on this alphabet then we can get by using **kwargs\n",
    "def my_fun3(**kwargs):\n",
    "    return kwargs"
   ]
  },
  {
   "cell_type": "code",
   "execution_count": 10,
   "id": "62f5d258-e631-4bda-8b54-088ff398f069",
   "metadata": {},
   "outputs": [
    {
     "data": {
      "text/plain": [
       "{'a': 'computer', 'b': 'laptop', 'c': 'palmtop', 'd': 'mobilephone'}"
      ]
     },
     "execution_count": 10,
     "metadata": {},
     "output_type": "execute_result"
    }
   ],
   "source": [
    "my_fun3(a='computer',b='laptop',c='palmtop',d='mobilephone')\n",
    "# i have alphabet order name(a,b,c,d)"
   ]
  },
  {
   "cell_type": "markdown",
   "id": "0e7ce093-5e72-45d4-b782-1d23a435f682",
   "metadata": {},
   "source": [
    "Q3. What is an iterator in python? Name the method used to initialise the iterator object and the method\n",
    "used for iteration. Use these methods to print the first five elements of the given list [2, 4, 6, 8, 10, 12, 14,\n",
    "16, 18, 20]."
   ]
  },
  {
   "cell_type": "code",
   "execution_count": 27,
   "id": "ae681a23-a23f-421b-9581-9f4c1d9bb103",
   "metadata": {},
   "outputs": [],
   "source": [
    "# iterator - An iterator is an object that can be iterated upon, meaning that you can traverse through all the values.\n",
    "# print five last element\n",
    "l =[2,4,6,8,10,12,14,16,18,20]\n",
    "l = iter(l)\n",
    "for i in l:\n",
    "    \n",
    "    if i == 10:\n",
    "        break\n",
    "    \n",
    "        \n",
    "    \n",
    "    \n",
    "        "
   ]
  },
  {
   "cell_type": "code",
   "execution_count": 28,
   "id": "5f44b072-3890-4a4c-8372-dc5bef9dd060",
   "metadata": {},
   "outputs": [
    {
     "data": {
      "text/plain": [
       "12"
      ]
     },
     "execution_count": 28,
     "metadata": {},
     "output_type": "execute_result"
    }
   ],
   "source": [
    "next(l)"
   ]
  },
  {
   "cell_type": "code",
   "execution_count": 13,
   "id": "12933066-0680-40e4-9452-48ecb4852dce",
   "metadata": {},
   "outputs": [
    {
     "data": {
      "text/plain": [
       "14"
      ]
     },
     "execution_count": 13,
     "metadata": {},
     "output_type": "execute_result"
    }
   ],
   "source": [
    "next(l)"
   ]
  },
  {
   "cell_type": "code",
   "execution_count": 14,
   "id": "bf4feb9e-6bde-43af-842b-20913136aca7",
   "metadata": {},
   "outputs": [
    {
     "data": {
      "text/plain": [
       "16"
      ]
     },
     "execution_count": 14,
     "metadata": {},
     "output_type": "execute_result"
    }
   ],
   "source": [
    "next(l)"
   ]
  },
  {
   "cell_type": "code",
   "execution_count": 15,
   "id": "3e521d11-dad0-4a97-a7f0-3a551959a068",
   "metadata": {},
   "outputs": [
    {
     "data": {
      "text/plain": [
       "18"
      ]
     },
     "execution_count": 15,
     "metadata": {},
     "output_type": "execute_result"
    }
   ],
   "source": [
    "next(l)"
   ]
  },
  {
   "cell_type": "code",
   "execution_count": 16,
   "id": "d8916701-664d-457e-b8f7-16ad6d860169",
   "metadata": {},
   "outputs": [
    {
     "data": {
      "text/plain": [
       "20"
      ]
     },
     "execution_count": 16,
     "metadata": {},
     "output_type": "execute_result"
    }
   ],
   "source": [
    "next(l)"
   ]
  },
  {
   "cell_type": "markdown",
   "id": "14a0a19c-52ff-4e0f-957d-f713db7cea68",
   "metadata": {},
   "source": [
    "Q4. What is a generator function in python? Why yield keyword is used? Give an example of a generator\n",
    "function."
   ]
  },
  {
   "cell_type": "code",
   "execution_count": 17,
   "id": "a37fc4f7-aee6-4e37-a2d5-8d994181c009",
   "metadata": {},
   "outputs": [],
   "source": [
    " # Generator-Function: A generator-function is defined like a normal function,\n",
    "# but whenever it needs to generate a value, it does so with the yield keyword rather than return. \n",
    "# If the body of a def contains yield,\n",
    "\n",
    "# the function automatically becomes a generator function. \n",
    "\n",
    "# generator keyword is name of \"yield\" keyword"
   ]
  },
  {
   "cell_type": "code",
   "execution_count": 18,
   "id": "9bfce968-60f4-4fd1-8963-0ea73c613021",
   "metadata": {},
   "outputs": [],
   "source": [
    "def p(n):\n",
    "    x = 0\n",
    "    y = 1\n",
    "    for i in range(n):\n",
    "        yield x\n",
    "        x,y = y , x+y\n",
    "            "
   ]
  },
  {
   "cell_type": "code",
   "execution_count": 19,
   "id": "ad6cf117-a3f0-4430-a10f-777bd963f0b7",
   "metadata": {},
   "outputs": [
    {
     "name": "stdout",
     "output_type": "stream",
     "text": [
      "0\n",
      "1\n",
      "1\n",
      "2\n",
      "3\n"
     ]
    }
   ],
   "source": [
    "for i in p(5):\n",
    "    print(i)\n",
    "    # this is the generator function to geneate the vale"
   ]
  },
  {
   "cell_type": "markdown",
   "id": "9f3a0b14-e0d5-4d09-91dc-4a80b50f8a61",
   "metadata": {},
   "source": [
    "Q5. Create a generator function for prime numbers less than 1000. Use the next() method to print the\n",
    "first 20 prime numbers."
   ]
  },
  {
   "cell_type": "code",
   "execution_count": 31,
   "id": "bedeed30-6c16-45b5-8895-847076a149d6",
   "metadata": {},
   "outputs": [],
   "source": [
    "def genPrimes(n):\n",
    "    yield 2\n",
    "    x=2\n",
    "    while True:\n",
    "        x+=1\n",
    "        for p in genPrimes():\n",
    "            if (x%p)==0:\n",
    "                break\n",
    "        else:\n",
    "            yield x"
   ]
  },
  {
   "cell_type": "code",
   "execution_count": 32,
   "id": "d2fdfb18-bf97-44cd-a7e0-2018d067b3b8",
   "metadata": {},
   "outputs": [
    {
     "data": {
      "text/plain": [
       "<generator object genPrimes at 0x7faf05f56340>"
      ]
     },
     "execution_count": 32,
     "metadata": {},
     "output_type": "execute_result"
    }
   ],
   "source": [
    "genPrimes(10)"
   ]
  },
  {
   "cell_type": "markdown",
   "id": "a2edcb0e-a417-4216-a962-61eb9ae0cc03",
   "metadata": {},
   "source": [
    "Q6. Write a python program to print the first 10 Fibonacci numbers using a while loop."
   ]
  },
  {
   "cell_type": "code",
   "execution_count": 34,
   "id": "e0ce9daf-1ac8-41a8-ac7e-eb93ae67578e",
   "metadata": {},
   "outputs": [
    {
     "name": "stdout",
     "output_type": "stream",
     "text": [
      "0\n",
      "1\n",
      "1\n",
      "2\n",
      "3\n",
      "5\n",
      "8\n",
      "13\n",
      "21\n",
      "34\n"
     ]
    }
   ],
   "source": [
    "num = 10\n",
    "a , b =0 ,1\n",
    "counter = 0 \n",
    "while counter < num:\n",
    "    print (a)\n",
    "    c = a+b\n",
    "    a=b\n",
    "    b=c\n",
    "    counter = counter + 1"
   ]
  },
  {
   "cell_type": "markdown",
   "id": "a521e50e-248b-4227-ac53-4b4424d5ddf5",
   "metadata": {},
   "source": [
    "Q7. Write a List Comprehension to iterate through the given string: ‘pwskills’.\n",
    "Expected output: ['p', 'w', 's', 'k', 'i', 'l', 'l', 's']"
   ]
  },
  {
   "cell_type": "code",
   "execution_count": 44,
   "id": "0f3aa5ee-04cf-4941-b118-21dbfc7ebe97",
   "metadata": {},
   "outputs": [
    {
     "data": {
      "text/plain": [
       "['P', 'W', 'S', 'K', 'I', 'L', 'L', 'S']"
      ]
     },
     "execution_count": 44,
     "metadata": {},
     "output_type": "execute_result"
    }
   ],
   "source": [
    "s = \"pwskills\"\n",
    "\n",
    "[i.upper() for i in s  ]"
   ]
  },
  {
   "cell_type": "markdown",
   "id": "f29bbc1c-5e23-4b8c-8b3b-a73b5ac32690",
   "metadata": {},
   "source": [
    "Q8. Write a python program to check whether a given number is Palindrome or not using a while loop."
   ]
  },
  {
   "cell_type": "code",
   "execution_count": 63,
   "id": "fc059421-6066-4076-bcfc-41715a29bd15",
   "metadata": {},
   "outputs": [
    {
     "name": "stdin",
     "output_type": "stream",
     "text": [
      "enter any number to check palindrome or not 121\n"
     ]
    },
    {
     "name": "stdout",
     "output_type": "stream",
     "text": [
      "this number is palindrome number\n"
     ]
    }
   ],
   "source": [
    "num = int(input(\"enter any number to check palindrome or not\"))\n",
    "temp = num\n",
    "rev = 0\n",
    "while num > 0:\n",
    "    f = num % 10\n",
    "    rev = (rev *10 )+f\n",
    "    num = num // 10\n",
    "if temp == rev:\n",
    "    print(\"this number is palindrome number\")\n",
    "else:\n",
    "    print(\"this number is not palindrome number\")"
   ]
  },
  {
   "cell_type": "markdown",
   "id": "35eee97e-dcb1-4fc9-bc7a-d9adbcfe0b4f",
   "metadata": {},
   "source": [
    "Q9. Write a code to print odd numbers from 1 to 100 using list comprehension.\n"
   ]
  },
  {
   "cell_type": "code",
   "execution_count": 80,
   "id": "bd328ffc-eddd-4916-b31e-a7e63f797de7",
   "metadata": {},
   "outputs": [
    {
     "data": {
      "text/plain": [
       "[1,\n",
       " 3,\n",
       " 5,\n",
       " 7,\n",
       " 9,\n",
       " 11,\n",
       " 13,\n",
       " 15,\n",
       " 17,\n",
       " 19,\n",
       " 21,\n",
       " 23,\n",
       " 25,\n",
       " 27,\n",
       " 29,\n",
       " 31,\n",
       " 33,\n",
       " 35,\n",
       " 37,\n",
       " 39,\n",
       " 41,\n",
       " 43,\n",
       " 45,\n",
       " 47,\n",
       " 49,\n",
       " 51,\n",
       " 53,\n",
       " 55,\n",
       " 57,\n",
       " 59,\n",
       " 61,\n",
       " 63,\n",
       " 65,\n",
       " 67,\n",
       " 69,\n",
       " 71,\n",
       " 73,\n",
       " 75,\n",
       " 77,\n",
       " 79,\n",
       " 81,\n",
       " 83,\n",
       " 85,\n",
       " 87,\n",
       " 89,\n",
       " 91,\n",
       " 93,\n",
       " 95,\n",
       " 97,\n",
       " 99]"
      ]
     },
     "execution_count": 80,
     "metadata": {},
     "output_type": "execute_result"
    }
   ],
   "source": [
    "l = list(range(100))\n",
    "l1 = []\n",
    "[ i for i in l if i % 2 != 0]"
   ]
  },
  {
   "cell_type": "code",
   "execution_count": null,
   "id": "c83c44a8-2ce2-4e63-844a-5e8f1ef90f57",
   "metadata": {},
   "outputs": [],
   "source": []
  },
  {
   "cell_type": "code",
   "execution_count": null,
   "id": "0bb17ed0-a4dd-4c8c-a7ce-4beffddeae3c",
   "metadata": {},
   "outputs": [],
   "source": []
  }
 ],
 "metadata": {
  "kernelspec": {
   "display_name": "Python 3 (ipykernel)",
   "language": "python",
   "name": "python3"
  },
  "language_info": {
   "codemirror_mode": {
    "name": "ipython",
    "version": 3
   },
   "file_extension": ".py",
   "mimetype": "text/x-python",
   "name": "python",
   "nbconvert_exporter": "python",
   "pygments_lexer": "ipython3",
   "version": "3.10.8"
  }
 },
 "nbformat": 4,
 "nbformat_minor": 5
}
